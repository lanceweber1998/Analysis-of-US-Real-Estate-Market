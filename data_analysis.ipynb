{
 "cells": [
  {
   "cell_type": "markdown",
   "id": "fd92c80a",
   "metadata": {},
   "source": [
    "# **Analysis of US Real Estate Market: Home Costs & Income Across Regions**"
   ]
  },
  {
   "cell_type": "markdown",
   "id": "a93e0fd5",
   "metadata": {},
   "source": [
    "## *A Comprhensive Study Incorporating Economic Indicators from the US Census*"
   ]
  },
  {
   "cell_type": "markdown",
   "id": "8890d2c9",
   "metadata": {},
   "source": [
    "### By Eric Lance Weber (6/5/2024)"
   ]
  },
  {
   "cell_type": "markdown",
   "id": "1fcc3ac8",
   "metadata": {},
   "source": [
    "## Introduction"
   ]
  },
  {
   "cell_type": "markdown",
   "id": "aca957a1",
   "metadata": {},
   "source": [
    "   Over the years, the prevailing notion that 'home prices and income are not increasing at the same rate' has sparked concerns about the stability and accessibility of the housing market. This discrepancy, if true, could have far-reaching implications, particularly in the realm of housing affordability. As home prices surge, obtaining suitable financing becomes increasingly challenging for many individuals and families. \n",
    "\n",
    "   This analysis embarks on an exploration of the intricate relationship and evolving trends between housing prices and income across different geographic regions of the United States. By delving into the 'US Real Estate (Census Data),' which tracks the dynamic interplay between home cost and average income over time, we aim to uncover insights into the underlying dynamics of the US housing market. It is worth noting that this analysis will focus solely on data exploration, refraining from proposing solutions, and instead, shedding light on any notable patterns or trends observed within the dataset"
   ]
  },
  {
   "cell_type": "markdown",
   "id": "c18bdc76",
   "metadata": {},
   "source": [
    "## The Data"
   ]
  },
  {
   "cell_type": "markdown",
   "id": "2ee69201",
   "metadata": {},
   "source": [
    "This data set was pulled from Kaggle, a well credited hub for downloading data sets across a wide variety of subjects.\n",
    "This data was chosen based on relevancy, recency, and it's 'usability score' of 10: a score created by Kaggle that scores how well the data is, based on **Completeness**, **Credibility**, and **Compatibility**. Note: 10 is the highest score a data set can receive on Kaggle. If you wish to explore the data yourself, click the hyperlink below."
   ]
  },
  {
   "cell_type": "markdown",
   "id": "ca49f325",
   "metadata": {},
   "source": [
    "*US Real Estate (Census Data):* https://www.kaggle.com/datasets/joshhaber/us-real-estate-incomepriceregion-census-data?resource=download"
   ]
  },
  {
   "cell_type": "code",
   "execution_count": 50,
   "id": "8df6f011",
   "metadata": {},
   "outputs": [],
   "source": [
    "import pandas as pd\n",
    "import numpy as np\n",
    "import matplotlib.pyplot as plt"
   ]
  },
  {
   "cell_type": "code",
   "execution_count": 51,
   "id": "3ab078e4",
   "metadata": {
    "scrolled": true
   },
   "outputs": [
    {
     "name": "stdout",
     "output_type": "stream",
     "text": [
      "Years Covered:  [2022 2021 2020 2019 2018 2017 2016 2015 2014]\n",
      "Months Covered:  ['December' 'November' 'October' 'September' 'August' 'July' 'June' 'May'\n",
      " 'April' 'March' 'February' 'January']\n",
      "Reagions Covered: ['Midwest' 'Northeast' 'South' 'United States' 'West']\n",
      "Home Sizes Covered:  ['Double' 'Single ' 'Total1']\n"
     ]
    },
    {
     "data": {
      "text/html": [
       "<div>\n",
       "<style scoped>\n",
       "    .dataframe tbody tr th:only-of-type {\n",
       "        vertical-align: middle;\n",
       "    }\n",
       "\n",
       "    .dataframe tbody tr th {\n",
       "        vertical-align: top;\n",
       "    }\n",
       "\n",
       "    .dataframe thead th {\n",
       "        text-align: right;\n",
       "    }\n",
       "</style>\n",
       "<table border=\"1\" class=\"dataframe\">\n",
       "  <thead>\n",
       "    <tr style=\"text-align: right;\">\n",
       "      <th></th>\n",
       "      <th>Year</th>\n",
       "      <th>Month</th>\n",
       "      <th>Region</th>\n",
       "      <th>Home Size</th>\n",
       "      <th>Average Sales Price</th>\n",
       "      <th>Number of Households (Thousands)</th>\n",
       "      <th>Median Income - Current Dollars</th>\n",
       "      <th>Median Income - 2022 Dollars</th>\n",
       "      <th>Mean Income - Current Dollars</th>\n",
       "      <th>Mean Income - 2022 Dollars</th>\n",
       "    </tr>\n",
       "  </thead>\n",
       "  <tbody>\n",
       "    <tr>\n",
       "      <th>0</th>\n",
       "      <td>2022</td>\n",
       "      <td>December</td>\n",
       "      <td>Midwest</td>\n",
       "      <td>Double</td>\n",
       "      <td>144300.0</td>\n",
       "      <td>28280.0</td>\n",
       "      <td>73070.0</td>\n",
       "      <td>73070.0</td>\n",
       "      <td>102400.0</td>\n",
       "      <td>102400.0</td>\n",
       "    </tr>\n",
       "    <tr>\n",
       "      <th>1</th>\n",
       "      <td>2022</td>\n",
       "      <td>December</td>\n",
       "      <td>Midwest</td>\n",
       "      <td>Single</td>\n",
       "      <td>82300.0</td>\n",
       "      <td>28280.0</td>\n",
       "      <td>73070.0</td>\n",
       "      <td>73070.0</td>\n",
       "      <td>102400.0</td>\n",
       "      <td>102400.0</td>\n",
       "    </tr>\n",
       "    <tr>\n",
       "      <th>2</th>\n",
       "      <td>2022</td>\n",
       "      <td>December</td>\n",
       "      <td>Midwest</td>\n",
       "      <td>Total1</td>\n",
       "      <td>104700.0</td>\n",
       "      <td>28280.0</td>\n",
       "      <td>73070.0</td>\n",
       "      <td>73070.0</td>\n",
       "      <td>102400.0</td>\n",
       "      <td>102400.0</td>\n",
       "    </tr>\n",
       "    <tr>\n",
       "      <th>3</th>\n",
       "      <td>2022</td>\n",
       "      <td>December</td>\n",
       "      <td>Northeast</td>\n",
       "      <td>Double</td>\n",
       "      <td>158300.0</td>\n",
       "      <td>22630.0</td>\n",
       "      <td>80360.0</td>\n",
       "      <td>80360.0</td>\n",
       "      <td>115300.0</td>\n",
       "      <td>115300.0</td>\n",
       "    </tr>\n",
       "    <tr>\n",
       "      <th>4</th>\n",
       "      <td>2022</td>\n",
       "      <td>December</td>\n",
       "      <td>Northeast</td>\n",
       "      <td>Single</td>\n",
       "      <td>75300.0</td>\n",
       "      <td>22630.0</td>\n",
       "      <td>80360.0</td>\n",
       "      <td>80360.0</td>\n",
       "      <td>115300.0</td>\n",
       "      <td>115300.0</td>\n",
       "    </tr>\n",
       "    <tr>\n",
       "      <th>5</th>\n",
       "      <td>2022</td>\n",
       "      <td>December</td>\n",
       "      <td>Northeast</td>\n",
       "      <td>Total1</td>\n",
       "      <td>113900.0</td>\n",
       "      <td>22630.0</td>\n",
       "      <td>80360.0</td>\n",
       "      <td>80360.0</td>\n",
       "      <td>115300.0</td>\n",
       "      <td>115300.0</td>\n",
       "    </tr>\n",
       "    <tr>\n",
       "      <th>6</th>\n",
       "      <td>2022</td>\n",
       "      <td>December</td>\n",
       "      <td>South</td>\n",
       "      <td>Double</td>\n",
       "      <td>155400.0</td>\n",
       "      <td>51080.0</td>\n",
       "      <td>68230.0</td>\n",
       "      <td>68230.0</td>\n",
       "      <td>98250.0</td>\n",
       "      <td>98250.0</td>\n",
       "    </tr>\n",
       "    <tr>\n",
       "      <th>7</th>\n",
       "      <td>2022</td>\n",
       "      <td>December</td>\n",
       "      <td>South</td>\n",
       "      <td>Single</td>\n",
       "      <td>80700.0</td>\n",
       "      <td>51080.0</td>\n",
       "      <td>68230.0</td>\n",
       "      <td>68230.0</td>\n",
       "      <td>98250.0</td>\n",
       "      <td>98250.0</td>\n",
       "    </tr>\n",
       "    <tr>\n",
       "      <th>8</th>\n",
       "      <td>2022</td>\n",
       "      <td>December</td>\n",
       "      <td>South</td>\n",
       "      <td>Total1</td>\n",
       "      <td>124000.0</td>\n",
       "      <td>51080.0</td>\n",
       "      <td>68230.0</td>\n",
       "      <td>68230.0</td>\n",
       "      <td>98250.0</td>\n",
       "      <td>98250.0</td>\n",
       "    </tr>\n",
       "    <tr>\n",
       "      <th>9</th>\n",
       "      <td>2022</td>\n",
       "      <td>December</td>\n",
       "      <td>United States</td>\n",
       "      <td>Double</td>\n",
       "      <td>155700.0</td>\n",
       "      <td>131400.0</td>\n",
       "      <td>74580.0</td>\n",
       "      <td>74580.0</td>\n",
       "      <td>106400.0</td>\n",
       "      <td>106400.0</td>\n",
       "    </tr>\n",
       "    <tr>\n",
       "      <th>10</th>\n",
       "      <td>2022</td>\n",
       "      <td>December</td>\n",
       "      <td>United States</td>\n",
       "      <td>Single</td>\n",
       "      <td>80200.0</td>\n",
       "      <td>131400.0</td>\n",
       "      <td>74580.0</td>\n",
       "      <td>74580.0</td>\n",
       "      <td>106400.0</td>\n",
       "      <td>106400.0</td>\n",
       "    </tr>\n",
       "    <tr>\n",
       "      <th>11</th>\n",
       "      <td>2022</td>\n",
       "      <td>December</td>\n",
       "      <td>United States</td>\n",
       "      <td>Total1</td>\n",
       "      <td>122100.0</td>\n",
       "      <td>131400.0</td>\n",
       "      <td>74580.0</td>\n",
       "      <td>74580.0</td>\n",
       "      <td>106400.0</td>\n",
       "      <td>106400.0</td>\n",
       "    </tr>\n",
       "    <tr>\n",
       "      <th>12</th>\n",
       "      <td>2022</td>\n",
       "      <td>December</td>\n",
       "      <td>West</td>\n",
       "      <td>Double</td>\n",
       "      <td>162400.0</td>\n",
       "      <td>29440.0</td>\n",
       "      <td>82890.0</td>\n",
       "      <td>82890.0</td>\n",
       "      <td>117500.0</td>\n",
       "      <td>117500.0</td>\n",
       "    </tr>\n",
       "    <tr>\n",
       "      <th>13</th>\n",
       "      <td>2022</td>\n",
       "      <td>December</td>\n",
       "      <td>West</td>\n",
       "      <td>Single</td>\n",
       "      <td>77600.0</td>\n",
       "      <td>29440.0</td>\n",
       "      <td>82890.0</td>\n",
       "      <td>82890.0</td>\n",
       "      <td>117500.0</td>\n",
       "      <td>117500.0</td>\n",
       "    </tr>\n",
       "    <tr>\n",
       "      <th>14</th>\n",
       "      <td>2022</td>\n",
       "      <td>December</td>\n",
       "      <td>West</td>\n",
       "      <td>Total1</td>\n",
       "      <td>134700.0</td>\n",
       "      <td>29440.0</td>\n",
       "      <td>82890.0</td>\n",
       "      <td>82890.0</td>\n",
       "      <td>117500.0</td>\n",
       "      <td>117500.0</td>\n",
       "    </tr>\n",
       "    <tr>\n",
       "      <th>15</th>\n",
       "      <td>2022</td>\n",
       "      <td>November</td>\n",
       "      <td>Midwest</td>\n",
       "      <td>Double</td>\n",
       "      <td>147600.0</td>\n",
       "      <td>28280.0</td>\n",
       "      <td>73070.0</td>\n",
       "      <td>73070.0</td>\n",
       "      <td>102400.0</td>\n",
       "      <td>102400.0</td>\n",
       "    </tr>\n",
       "    <tr>\n",
       "      <th>16</th>\n",
       "      <td>2022</td>\n",
       "      <td>November</td>\n",
       "      <td>Midwest</td>\n",
       "      <td>Single</td>\n",
       "      <td>89100.0</td>\n",
       "      <td>28280.0</td>\n",
       "      <td>73070.0</td>\n",
       "      <td>73070.0</td>\n",
       "      <td>102400.0</td>\n",
       "      <td>102400.0</td>\n",
       "    </tr>\n",
       "    <tr>\n",
       "      <th>17</th>\n",
       "      <td>2022</td>\n",
       "      <td>November</td>\n",
       "      <td>Midwest</td>\n",
       "      <td>Total1</td>\n",
       "      <td>113600.0</td>\n",
       "      <td>28280.0</td>\n",
       "      <td>73070.0</td>\n",
       "      <td>73070.0</td>\n",
       "      <td>102400.0</td>\n",
       "      <td>102400.0</td>\n",
       "    </tr>\n",
       "    <tr>\n",
       "      <th>18</th>\n",
       "      <td>2022</td>\n",
       "      <td>November</td>\n",
       "      <td>Northeast</td>\n",
       "      <td>Double</td>\n",
       "      <td>146700.0</td>\n",
       "      <td>22630.0</td>\n",
       "      <td>80360.0</td>\n",
       "      <td>80360.0</td>\n",
       "      <td>115300.0</td>\n",
       "      <td>115300.0</td>\n",
       "    </tr>\n",
       "    <tr>\n",
       "      <th>19</th>\n",
       "      <td>2022</td>\n",
       "      <td>November</td>\n",
       "      <td>Northeast</td>\n",
       "      <td>Single</td>\n",
       "      <td>93900.0</td>\n",
       "      <td>22630.0</td>\n",
       "      <td>80360.0</td>\n",
       "      <td>80360.0</td>\n",
       "      <td>115300.0</td>\n",
       "      <td>115300.0</td>\n",
       "    </tr>\n",
       "  </tbody>\n",
       "</table>\n",
       "</div>"
      ],
      "text/plain": [
       "    Year     Month         Region Home Size  Average Sales Price  \\\n",
       "0   2022  December        Midwest    Double             144300.0   \n",
       "1   2022  December        Midwest   Single               82300.0   \n",
       "2   2022  December        Midwest    Total1             104700.0   \n",
       "3   2022  December      Northeast    Double             158300.0   \n",
       "4   2022  December      Northeast   Single               75300.0   \n",
       "5   2022  December      Northeast    Total1             113900.0   \n",
       "6   2022  December          South    Double             155400.0   \n",
       "7   2022  December          South   Single               80700.0   \n",
       "8   2022  December          South    Total1             124000.0   \n",
       "9   2022  December  United States    Double             155700.0   \n",
       "10  2022  December  United States   Single               80200.0   \n",
       "11  2022  December  United States    Total1             122100.0   \n",
       "12  2022  December           West    Double             162400.0   \n",
       "13  2022  December           West   Single               77600.0   \n",
       "14  2022  December           West    Total1             134700.0   \n",
       "15  2022  November        Midwest    Double             147600.0   \n",
       "16  2022  November        Midwest   Single               89100.0   \n",
       "17  2022  November        Midwest    Total1             113600.0   \n",
       "18  2022  November      Northeast    Double             146700.0   \n",
       "19  2022  November      Northeast   Single               93900.0   \n",
       "\n",
       "    Number of Households (Thousands)  Median Income - Current Dollars  \\\n",
       "0                            28280.0                          73070.0   \n",
       "1                            28280.0                          73070.0   \n",
       "2                            28280.0                          73070.0   \n",
       "3                            22630.0                          80360.0   \n",
       "4                            22630.0                          80360.0   \n",
       "5                            22630.0                          80360.0   \n",
       "6                            51080.0                          68230.0   \n",
       "7                            51080.0                          68230.0   \n",
       "8                            51080.0                          68230.0   \n",
       "9                           131400.0                          74580.0   \n",
       "10                          131400.0                          74580.0   \n",
       "11                          131400.0                          74580.0   \n",
       "12                           29440.0                          82890.0   \n",
       "13                           29440.0                          82890.0   \n",
       "14                           29440.0                          82890.0   \n",
       "15                           28280.0                          73070.0   \n",
       "16                           28280.0                          73070.0   \n",
       "17                           28280.0                          73070.0   \n",
       "18                           22630.0                          80360.0   \n",
       "19                           22630.0                          80360.0   \n",
       "\n",
       "    Median Income - 2022 Dollars  Mean Income - Current Dollars  \\\n",
       "0                        73070.0                       102400.0   \n",
       "1                        73070.0                       102400.0   \n",
       "2                        73070.0                       102400.0   \n",
       "3                        80360.0                       115300.0   \n",
       "4                        80360.0                       115300.0   \n",
       "5                        80360.0                       115300.0   \n",
       "6                        68230.0                        98250.0   \n",
       "7                        68230.0                        98250.0   \n",
       "8                        68230.0                        98250.0   \n",
       "9                        74580.0                       106400.0   \n",
       "10                       74580.0                       106400.0   \n",
       "11                       74580.0                       106400.0   \n",
       "12                       82890.0                       117500.0   \n",
       "13                       82890.0                       117500.0   \n",
       "14                       82890.0                       117500.0   \n",
       "15                       73070.0                       102400.0   \n",
       "16                       73070.0                       102400.0   \n",
       "17                       73070.0                       102400.0   \n",
       "18                       80360.0                       115300.0   \n",
       "19                       80360.0                       115300.0   \n",
       "\n",
       "    Mean Income - 2022 Dollars  \n",
       "0                     102400.0  \n",
       "1                     102400.0  \n",
       "2                     102400.0  \n",
       "3                     115300.0  \n",
       "4                     115300.0  \n",
       "5                     115300.0  \n",
       "6                      98250.0  \n",
       "7                      98250.0  \n",
       "8                      98250.0  \n",
       "9                     106400.0  \n",
       "10                    106400.0  \n",
       "11                    106400.0  \n",
       "12                    117500.0  \n",
       "13                    117500.0  \n",
       "14                    117500.0  \n",
       "15                    102400.0  \n",
       "16                    102400.0  \n",
       "17                    102400.0  \n",
       "18                    115300.0  \n",
       "19                    115300.0  "
      ]
     },
     "execution_count": 51,
     "metadata": {},
     "output_type": "execute_result"
    }
   ],
   "source": [
    "real_estate_data = pd.read_csv('RealEstateUnitedStates.csv')\n",
    "print('Years Covered: ', real_estate_data.Year.unique())\n",
    "print('Months Covered: ', real_estate_data.Month.unique())\n",
    "print('Reagions Covered:', real_estate_data.Region.unique())\n",
    "print('Home Sizes Covered: ', real_estate_data['Home Size'].unique())\n",
    "real_estate_data.head(20)"
   ]
  },
  {
   "cell_type": "markdown",
   "id": "9f2f4695",
   "metadata": {},
   "source": [
    "## Data Breakdown"
   ]
  },
  {
   "cell_type": "markdown",
   "id": "f39729ce",
   "metadata": {},
   "source": [
    "The columns contained within *real_estate_data* cover years **2014 - 2022**. It goes month-by-month for each of the **4** Regions including an additional data point for the entire U.S.:"
   ]
  },
  {
   "cell_type": "markdown",
   "id": "832c1398",
   "metadata": {},
   "source": [
    "1. West\n",
    "2. Midwest\n",
    "3. Northeast\n",
    "4. South\n",
    "5. United States"
   ]
  },
  {
   "cell_type": "markdown",
   "id": "7a239783",
   "metadata": {},
   "source": [
    "Within each of those regions, there is data collected for each of the **3** Home Sizes:"
   ]
  },
  {
   "cell_type": "markdown",
   "id": "31b3fc89",
   "metadata": {},
   "source": [
    "1. Double\n",
    "2. Single\n",
    "3. Total1\n",
    "\n",
    "NOTE: While I initally believed Total1 to be the combined sum of Double and Single, it does not appear to be the case. For this data analysis, I will be only focusing on the data points that are clearly understood and thus only focusing on *Double* and *Single* households."
   ]
  },
  {
   "cell_type": "markdown",
   "id": "a9d3800e",
   "metadata": {},
   "source": [
    "# Analysis Setup"
   ]
  },
  {
   "cell_type": "markdown",
   "id": "a14c5efa",
   "metadata": {},
   "source": [
    "### Creating Empty Dictionaries"
   ]
  },
  {
   "cell_type": "code",
   "execution_count": 52,
   "id": "50c1e41f",
   "metadata": {},
   "outputs": [],
   "source": [
    "df = pd.DataFrame(real_estate_data)\n",
    "\n",
    "# Define a range of years from 2014 to 2022 (inclusive)\n",
    "years = range(2014, 2023)\n",
    "\n",
    "# Create empty dictionary for years\n",
    "year_data = {}\n",
    "\n",
    "# Create empty dictionaries to store 'Double' and 'Single' DataFrames for each year\n",
    "double_data = {}\n",
    "single_data = {}\n",
    "\n",
    "# Create an empty dictionary to store the average prices\n",
    "average_prices = {}"
   ]
  },
  {
   "cell_type": "markdown",
   "id": "ac6deff6",
   "metadata": {},
   "source": [
    "### Dictionary for Each Year"
   ]
  },
  {
   "cell_type": "code",
   "execution_count": 53,
   "id": "206f2756",
   "metadata": {},
   "outputs": [],
   "source": [
    "#Split up by Year\n",
    "\n",
    "# Define a range of years from 2014 to 2022 (inclusive)\n",
    "years = range(2014, 2023)\n",
    "\n",
    "# Loop through each year\n",
    "for year in years:\n",
    "    # Filter DataFrame for the current year and store it in the dictionary\n",
    "    year_data[year] = df[df['Year'] == year]\n",
    "\n",
    "# Access the DataFrames for specific years if needed\n",
    "#year_2014 = year_data[2014]\n",
    "#year_2015 = year_data[2015]\n",
    "# Similarly, access DataFrames for other years if needed"
   ]
  },
  {
   "cell_type": "markdown",
   "id": "f2fe60fa",
   "metadata": {},
   "source": [
    "### Dictionaries for Single and Double Home Sizes Per Year"
   ]
  },
  {
   "cell_type": "code",
   "execution_count": 54,
   "id": "573f6257",
   "metadata": {},
   "outputs": [],
   "source": [
    "# Fill in Double and Single Dictionaries\n",
    "for year in years:\n",
    "    # Filter 'Double' and 'Single' DataFrames for the current year\n",
    "    double_data[year] = df[(df['Year'] == year) & (df['Home Size'] == 'Double')]\n",
    "    single_data[year] = df[(df['Year'] == year) & (df['Home Size'] == 'Single ')]\n",
    "\n",
    "# Access the DataFrames for a specific year\n",
    "#double_2014 = double_data[2014]\n",
    "#single_2014 = single_data[2014]"
   ]
  },
  {
   "cell_type": "markdown",
   "id": "074a9218",
   "metadata": {},
   "source": [
    "### Dictionary for Avg Income Per Year"
   ]
  },
  {
   "cell_type": "code",
   "execution_count": 56,
   "id": "5b21c8e4",
   "metadata": {},
   "outputs": [
    {
     "name": "stdout",
     "output_type": "stream",
     "text": [
      "{2014: 75740.0, 2015: 79260.0, 2016: 83140.0, 2017: 86220.0, 2018: 90020.0, 2019: 98090.0, 2020: 97470.0, 2021: 102300.0, 2022: 106400.0}\n"
     ]
    }
   ],
   "source": [
    "import pandas as pd\n",
    "import numpy as np\n",
    "\n",
    "# Assuming df is your original DataFrame containing the data\n",
    "# Filter the DataFrame to select rows where 'Region' is equal to 'United States'\n",
    "us_data = df[df['Region'] == 'United States'].copy()  # Create a copy to avoid SettingWithCopyWarning\n",
    "\n",
    "# Convert the 'Year' column to datetime if it's not already in datetime format\n",
    "us_data['Year'] = pd.to_datetime(us_data['Year'], format='%Y')\n",
    "\n",
    "# Extract the year from the datetime object and convert it to int\n",
    "us_data['Year'] = us_data['Year'].dt.year.astype(int)\n",
    "\n",
    "# Group the filtered data by year and calculate the mean income for each year\n",
    "mean_income_per_year = us_data.groupby('Year')['Mean Income - Current Dollars'].mean().to_dict()\n",
    "\n",
    "# Display the updated dictionary\n",
    "print(mean_income_per_year)\n"
   ]
  },
  {
   "cell_type": "markdown",
   "id": "6f12b2eb",
   "metadata": {},
   "source": [
    "### Dictionary for Each Region"
   ]
  },
  {
   "cell_type": "code",
   "execution_count": 57,
   "id": "55a3dd0a",
   "metadata": {},
   "outputs": [],
   "source": [
    "# Define regions and home sizes\n",
    "regions = ['Midwest', 'West', 'Northeast', 'South', 'United States']\n",
    "home_sizes = ['Double', 'Single ']\n",
    "\n",
    "# Create a dictionary to store the split data\n",
    "split_data = {}\n",
    "\n",
    "# Iterate over regions\n",
    "for region in regions:\n",
    "    region_data = df[df['Region'] == region]\n",
    "    split_data[region] = {}\n",
    "    \n",
    "    # Iterate over home sizes\n",
    "    for home_size in home_sizes:\n",
    "        split_data[region][home_size] = region_data[region_data['Home Size'] == home_size]\n",
    "\n",
    "# Access the split data if needed\n",
    "midwest_double = split_data['Midwest']['Double']\n",
    "midwest_single = split_data['Midwest']['Single ']\n",
    "\n",
    "west_double = split_data['West']['Double']\n",
    "west_single = split_data['West']['Single ']\n",
    "\n",
    "northeast_double = split_data['Northeast']['Double']\n",
    "northeast_single = split_data['Northeast']['Single ']\n",
    "\n",
    "south_double = split_data['South']['Double']\n",
    "south_single = split_data['South']['Single ']\n",
    "\n",
    "us_double = split_data['United States']['Double']\n",
    "us_single = split_data['United States']['Single ']"
   ]
  },
  {
   "cell_type": "markdown",
   "id": "dbae12b9",
   "metadata": {},
   "source": [
    "### Dictionary for Average Home Prices for Single and Double Home Sizes Per Year"
   ]
  },
  {
   "cell_type": "code",
   "execution_count": 58,
   "id": "b107826e",
   "metadata": {
    "scrolled": true
   },
   "outputs": [],
   "source": [
    "# Fill in Avg House Prices Dictionary\n",
    "for year in years:\n",
    "    # Calculate average sales price for 'Double' homes in the given year\n",
    "    avg_hpd_year_double = np.average(df[(df['Year'] == year) & (df['Home Size'] == 'Double')]['Average Sales Price'])\n",
    "    # Calculate average sales price for 'Single' homes in the given year\n",
    "    avg_hpd_year_single = np.average(df[(df['Year'] == year) & (df['Home Size'] == 'Single ')]['Average Sales Price'])\n",
    "    \n",
    "    # Store the results in the dictionary\n",
    "    average_prices[year] = {'Double': avg_hpd_year_double, 'Single': avg_hpd_year_single}"
   ]
  },
  {
   "cell_type": "markdown",
   "id": "c05d452e",
   "metadata": {},
   "source": [
    "### Average Housing Prices Per Region"
   ]
  },
  {
   "cell_type": "code",
   "execution_count": 63,
   "id": "bd7839e6",
   "metadata": {},
   "outputs": [],
   "source": [
    "#Split up the Data by Regions\n",
    "midwest = df[df.Region == 'Midwest']\n",
    "west = df[df.Region == 'West']\n",
    "northeast = df[df.Region == 'Northeast']\n",
    "south = df[df.Region == 'South']\n",
    "us = df[df.Region == 'United States']\n",
    "\n",
    "\n",
    "#Split those new data sets by Home Size (Double and Single)\n",
    "midwest_double = midwest[midwest['Home Size'] == 'Double']\n",
    "midwest_single = midwest[midwest['Home Size'] == 'Single ']\n",
    "\n",
    "west_double = west[west['Home Size'] == 'Double']\n",
    "west_single = west[west['Home Size'] == 'Single ']\n",
    "\n",
    "northeast_double = northeast[northeast['Home Size'] == 'Double']\n",
    "northeast_single = northeast[northeast['Home Size'] == 'Single ']\n",
    "\n",
    "south_double = south[south['Home Size'] == 'Double']\n",
    "south_single = south[south['Home Size'] == 'Single ']\n",
    "\n",
    "us_double = us[us['Home Size'] == 'Double']\n",
    "us_single = us[us['Home Size'] == 'Single ']\n"
   ]
  },
  {
   "cell_type": "markdown",
   "id": "c79429a2",
   "metadata": {},
   "source": [
    "# Analysis"
   ]
  },
  {
   "cell_type": "markdown",
   "id": "37fe52c0",
   "metadata": {},
   "source": [
    "### What was the Average Price of Single and Double Houses Over Time?"
   ]
  },
  {
   "cell_type": "code",
   "execution_count": 64,
   "id": "bf06a11c",
   "metadata": {
    "scrolled": true
   },
   "outputs": [
    {
     "name": "stdout",
     "output_type": "stream",
     "text": [
      "2014  Average Housing Price: SINGLE:  46288.333333333336\n",
      "2014  Average Housing Price: DOUBLE:  83673.33333333333\n",
      "---\n",
      "2015  Average Housing Price: SINGLE:  46758.333333333336\n",
      "2015  Average Housing Price: DOUBLE:  89293.33333333333\n",
      "---\n",
      "2016  Average Housing Price: SINGLE:  48576.666666666664\n",
      "2016  Average Housing Price: DOUBLE:  92403.33333333333\n",
      "---\n",
      "2017  Average Housing Price: SINGLE:  49400.0\n",
      "2017  Average Housing Price: DOUBLE:  95530.0\n",
      "---\n",
      "2018  Average Housing Price: SINGLE:  53881.666666666664\n",
      "2018  Average Housing Price: DOUBLE:  101328.33333333333\n",
      "---\n",
      "2019  Average Housing Price: SINGLE:  53281.818181818184\n",
      "2019  Average Housing Price: DOUBLE:  105254.54545454546\n",
      "---\n",
      "2020  Average Housing Price: SINGLE:  58061.818181818184\n",
      "2020  Average Housing Price: DOUBLE:  109305.45454545454\n",
      "---\n",
      "2021  Average Housing Price: SINGLE:  73156.36363636363\n",
      "2021  Average Housing Price: DOUBLE:  131952.72727272726\n",
      "---\n",
      "2022  Average Housing Price: SINGLE:  86448.33333333333\n",
      "2022  Average Housing Price: DOUBLE:  157031.66666666666\n",
      "---\n"
     ]
    }
   ],
   "source": [
    "# Print the results\n",
    "for year in years:\n",
    "    print(year, ' Average Housing Price: SINGLE: ', average_prices[year]['Single'])\n",
    "    print(year, ' Average Housing Price: DOUBLE: ', average_prices[year]['Double'])\n",
    "    print('---')"
   ]
  },
  {
   "cell_type": "markdown",
   "id": "ae82804e",
   "metadata": {},
   "source": [
    "### This is straight to the point, but hard to compare! So let's graph it instead!"
   ]
  },
  {
   "cell_type": "code",
   "execution_count": 65,
   "id": "8b56cf23",
   "metadata": {
    "scrolled": false
   },
   "outputs": [
    {
     "data": {
      "image/png": "[encoded data removed]",
      "text/plain": [
       "<Figure size 1000x600 with 1 Axes>"
      ]
     },
     "metadata": {},
     "output_type": "display_data"
    }
   ],
   "source": [
    "\n",
    "# Extract years and corresponding average single and double housing prices\n",
    "years = list(average_prices.keys())\n",
    "single_prices = [average_prices[year]['Single'] for year in years]\n",
    "double_prices = [average_prices[year]['Double'] for year in years]\n",
    "\n",
    "# Plot the line graph for single housing prices\n",
    "plt.figure(figsize=(10, 6))\n",
    "plt.plot(years, single_prices, marker='o', linestyle='-', color='b', label='Single')\n",
    "\n",
    "# Plot the line graph for double housing prices\n",
    "plt.plot(years, double_prices, marker='o', linestyle='-', color='r', label='Double')\n",
    "\n",
    "# Set labels and title\n",
    "plt.xlabel('Year')\n",
    "plt.ylabel('Average Price')\n",
    "plt.title('Average Price of Single and Double Houses Over Time')\n",
    "\n",
    "# Show grid\n",
    "plt.grid(True)\n",
    "\n",
    "# Add legend\n",
    "plt.legend()\n",
    "\n",
    "# Show plot\n",
    "plt.tight_layout()\n",
    "plt.show()\n"
   ]
  },
  {
   "cell_type": "markdown",
   "id": "9bf3e754",
   "metadata": {},
   "source": [
    "### Much better! We see that both Single and Double sized homes move very similarly to one and another. But now let's see where average income per year (across all the United States)"
   ]
  },
  {
   "cell_type": "code",
   "execution_count": 66,
   "id": "6fc5f5b0",
   "metadata": {},
   "outputs": [
    {
     "data": {
      "image/png": "[encoded data removed]",
      "text/plain": [
       "<Figure size 1000x600 with 1 Axes>"
      ]
     },
     "metadata": {},
     "output_type": "display_data"
    }
   ],
   "source": [
    "import matplotlib.pyplot as plt\n",
    "\n",
    "# Assuming you have already defined the variables years, single_prices, double_prices, and mean_income_per_year_us\n",
    "\n",
    "# Plot the line graph for single and double housing prices\n",
    "fig, ax = plt.subplots(figsize=(10, 6))\n",
    "\n",
    "color = 'tab:blue'\n",
    "ax.set_xlabel('Year')\n",
    "ax.set_ylabel('Average Price', color=color)\n",
    "ax.plot(years, single_prices, marker='o', linestyle='-', color='b', label='Single')\n",
    "ax.plot(years, double_prices, marker='o', linestyle='-', color='r', label='Double')\n",
    "ax.tick_params(axis='y', labelcolor=color)\n",
    "ax.set_title('Average Price of Single and Double Houses Over Time')\n",
    "\n",
    "# Plot mean income on the same y-axis\n",
    "ax.plot(list(mean_income_per_year.keys()), list(mean_income_per_year.values()), marker='s', linestyle='--', color='g', label='Mean Income')\n",
    "\n",
    "# Add legend\n",
    "ax.legend()\n",
    "\n",
    "# Show grid\n",
    "ax.grid(True)\n",
    "\n",
    "# Adjust layout\n",
    "plt.tight_layout()\n",
    "\n",
    "# Show plot\n",
    "plt.show()\n"
   ]
  }
 ],
 "metadata": {
  "kernelspec": {
   "display_name": "Python 3 (ipykernel)",
   "language": "python",
   "name": "python3"
  },
  "language_info": {
   "codemirror_mode": {
    "name": "ipython",
    "version": 3
   },
   "file_extension": ".py",
   "mimetype": "text/x-python",
   "name": "python",
   "nbconvert_exporter": "python",
   "pygments_lexer": "ipython3",
   "version": "3.11.7"
  }
 },
 "nbformat": 4,
 "nbformat_minor": 5
}
